{
 "cells": [
  {
   "cell_type": "code",
   "execution_count": 67,
   "outputs": [],
   "source": [
    "import string\n",
    "from typing import List\n",
    "import numpy as np"
   ],
   "metadata": {
    "collapsed": false,
    "pycharm": {
     "name": "#%%\n"
    }
   }
  },
  {
   "cell_type": "code",
   "execution_count": 76,
   "outputs": [
    {
     "name": "stdout",
     "output_type": "stream",
     "text": [
      "[2, 3, 5, 7, 11, 13, 17, 19, 23, 29, 31, 37, 41, 43, 47, 53, 59, 61, 67, 71, 73, 79, 83, 89, 97]\n"
     ]
    }
   ],
   "source": [
    "\n",
    "\n",
    "def is_prime(x: int) -> bool:\n",
    "    if x < 2 or x != 2 and x % 2 == 0 or x != 3 and x % 3 == 0:\n",
    "        return False\n",
    "    for d in range(5, 1 + int(x ** 0.5), 6):\n",
    "        if x % d == 0 or x % (d + 2) == 0:\n",
    "            return False\n",
    "    return True\n",
    "\n",
    "def run():\n",
    "    print([x for x in range(100) if is_prime(x)])\n",
    "\n",
    "run()"
   ],
   "metadata": {
    "collapsed": false,
    "pycharm": {
     "name": "#%%\n"
    }
   }
  },
  {
   "cell_type": "code",
   "execution_count": 69,
   "outputs": [
    {
     "name": "stdout",
     "output_type": "stream",
     "text": [
      "['ad', 'ad', 'adipisci', 'adolescens', 'alienum', 'aliquid', 'an', 'an', 'an', 'appareat', 'assentior', 'assentior', 'at', 'at', 'at', 'audiam', 'brute', 'complectitur', 'concludaturque', 'congue', 'consectetuer', 'consequat', 'constituto', 'corrumpit', 'cu', 'cu', 'cu', 'cum', 'decore', 'Deleniti', 'disputando', 'dolore', 'duo', 'ea', 'ea', 'ea', 'eloquentiam', 'Eripuit', 'error', 'erroribus', 'est', 'Est', 'est', 'eu', 'eu', 'euismod', 'eum', 'ex', 'ex', 'ex', 'ex', 'facete', 'fugit', 'gloriatur', 'has', 'his', 'id', 'Id', 'instructior', 'iriure', 'Ius', 'labore', 'labores', 'laoreet', 'libris', 'lucilius', 'mea', 'mea', 'mea', 'mea', 'mea', 'mei', 'mei', 'melius', 'molestie', 'molestie', 'mollis', 'Nam', 'nam', 'ne', 'ne', 'nominati', 'nominavi', 'nominavi', 'nostro', 'nostro', 'nostrum', 'nusquam', 'nusquam', 'omittantur', 'omnium', 'patrioque', 'per', 'per', 'pertinacia', 'ponderum', 'possit', 'principes', 'pro', 'propriae', 'purto', 'qualisque', 'Quem', 'qui', 'Qui', 'quod', 'rationibus', 'rebum', 'recusabo', 'recusabo', 'regione', 'sanctus', 'sapientem', 'sea', 'sed', 'similique', 'Sit', 'sonet', 'splendide', 'suscipiantur', 'tacimates', 'tantas', 'te', 'Te', 'te', 'Te', 'te', 'te', 'torquatos', 'tota', 'unum', 'ut', 'ut', 'utamur', 'verear', 'veritus', 'veritus', 'verterem', 'Vim', 'vim', 'Vim', 'vim', 'Vis', 'vivendum', 'vix', 'vulputate']\n"
     ]
    }
   ],
   "source": [
    "def read_file(path: str) -> str:\n",
    "    return open(path, \"r\").read()\n",
    "\n",
    "\n",
    "def order_words(text: str) -> List[str]:\n",
    "    text_words = [word.strip(string.punctuation) for word in text.split()]\n",
    "    text_words.sort(key=lambda v: v.upper())\n",
    "    return text_words\n",
    "\n",
    "\n",
    "print(order_words(read_file(\"text.txt\")))"
   ],
   "metadata": {
    "collapsed": false,
    "pycharm": {
     "name": "#%%\n"
    }
   }
  },
  {
   "cell_type": "code",
   "execution_count": 70,
   "outputs": [],
   "source": [
    "def get_matrix_from_file(path: str) -> List[List[int]]:\n",
    "    return eval(open(path, \"r\").read())\n",
    "\n",
    "a_nn: List[List[int]] = get_matrix_from_file(\"matrix.txt\")\n",
    "b_nn: List[List[int]] = get_matrix_from_file(\"vector.txt\")"
   ],
   "metadata": {
    "collapsed": false,
    "pycharm": {
     "name": "#%%\n"
    }
   }
  },
  {
   "cell_type": "code",
   "execution_count": 71,
   "outputs": [
    {
     "data": {
      "text/plain": "[[-27], [-87], [-147]]"
     },
     "execution_count": 71,
     "metadata": {},
     "output_type": "execute_result"
    }
   ],
   "source": [
    "def dot(array_1: List[List[int]], array_2: List[List[int]]) -> List[List[int]]:\n",
    "    array_3 = [\n",
    "        [0],\n",
    "        [0],\n",
    "        [0]\n",
    "    ]\n",
    "    for i in range(len(array_1)):\n",
    "        for j in range(len(array_2[0])):\n",
    "            for k in range(len(array_2)):\n",
    "                array_3[i][j] += array_1[i][k] * array_2[k][j]\n",
    "    return array_3\n",
    "\n",
    "dot(a_nn, b_nn)"
   ],
   "metadata": {
    "collapsed": false,
    "pycharm": {
     "name": "#%%\n"
    }
   }
  },
  {
   "cell_type": "code",
   "execution_count": 72,
   "outputs": [
    {
     "name": "stdout",
     "output_type": "stream",
     "text": [
      "[[ 3  4]\n",
      " [13 14]]\n",
      "[[  7]\n",
      " [-10]]\n"
     ]
    }
   ],
   "source": [
    "\n",
    "def run():\n",
    "    np_a = np.array(a_nn)\n",
    "    np_b = np.array(b_nn)\n",
    "\n",
    "    print(np_a[:2, -2:])\n",
    "    print(np_b[-2:])\n",
    "\n",
    "run()"
   ],
   "metadata": {
    "collapsed": false,
    "pycharm": {
     "name": "#%%\n"
    }
   }
  },
  {
   "cell_type": "code",
   "execution_count": 73,
   "outputs": [
    {
     "name": "stdout",
     "output_type": "stream",
     "text": [
      "a)\n",
      "v1: [0.84011906 0.47516091 0.40237761]\n",
      "sum(v1) =  1.7176575869685453\n",
      "v2: [0.07706536 0.84658671 0.76670348]\n",
      "sum(v2) =  1.69035554184784\n",
      "v1 > v2\n",
      "b)\n",
      "Vectors' sum =  [0.91718442 1.32174762 1.16908109]\n",
      "The cross product of 2 vectors =  [ 0.02365998 -0.61311283  0.67461518]\n",
      "The outer product of 2 vectors =  [[0.06474408 0.71123363 0.6441222 ]\n",
      " [0.03661845 0.40226491 0.36430752]\n",
      " [0.03100938 0.34064754 0.30850432]]\n",
      "The scalar product of 2 vectors =  0.7755133043121286\n",
      "c)\n",
      "[0.91658009 0.68931917 0.63433242]\n"
     ]
    }
   ],
   "source": [
    "def run():\n",
    "    v_1 = np.random.rand(3)\n",
    "    v_2 = np.random.rand(3)\n",
    "    s1 = v_1.sum()\n",
    "    s2 = v_2.sum()\n",
    "    print(\"a)\")\n",
    "    print(\"v1:\", v_1)\n",
    "    print(\"sum(v1) = \", s1)\n",
    "    print(\"v2:\", v_2)\n",
    "    print(\"sum(v2) = \", s2)\n",
    "    if s1 > s2:\n",
    "        print(\"v1 > v2\")\n",
    "    elif s2 > s1:\n",
    "        print(\"v1 < v2\")\n",
    "    else:\n",
    "        print(\"v1 = v2\")\n",
    "    vector_sum = np.add(v_1, v_2)\n",
    "    cross_prod = np.cross(v_1, v_2)\n",
    "    vector_prod = np.outer(v_1, v_2)\n",
    "    scalar_prod = np.dot(v_1, v_2)\n",
    "    print(\"b)\")\n",
    "    print(\"Vectors' sum = \", vector_sum)\n",
    "    print(\"The cross product of 2 vectors = \", cross_prod)\n",
    "    print(\"The outer product of 2 vectors = \", vector_prod)\n",
    "    print(\"The scalar product of 2 vectors = \", scalar_prod)\n",
    "    print(\"c)\")\n",
    "    print(np.sqrt(v_1))\n",
    "\n",
    "run()"
   ],
   "metadata": {
    "collapsed": false,
    "pycharm": {
     "name": "#%%\n"
    }
   }
  },
  {
   "cell_type": "code",
   "execution_count": 74,
   "outputs": [
    {
     "name": "stdout",
     "output_type": "stream",
     "text": [
      "a)\n",
      "m: \n",
      "[[0.21747479 0.2840497  0.24233731 0.16906133 0.67281669]\n",
      " [0.63583184 0.59128776 0.01030866 0.64079514 0.18300921]\n",
      " [0.18784309 0.57444476 0.93803873 0.28036324 0.45077407]\n",
      " [0.67123399 0.59511099 0.72573923 0.75511247 0.05070229]\n",
      " [0.89728842 0.78737481 0.10071753 0.19098503 0.7583162 ]]\n",
      "m.T\n",
      "[[0.21747479 0.63583184 0.18784309 0.67123399 0.89728842]\n",
      " [0.2840497  0.59128776 0.57444476 0.59511099 0.78737481]\n",
      " [0.24233731 0.01030866 0.93803873 0.72573923 0.10071753]\n",
      " [0.16906133 0.64079514 0.28036324 0.75511247 0.19098503]\n",
      " [0.67281669 0.18300921 0.45077407 0.05070229 0.7583162 ]]\n",
      "\n",
      "b)\n",
      "m^-1: \n",
      "[[ 0.2704233  -2.41119157 -2.04316071  2.39096818  1.39664861]\n",
      " [-2.74598604  2.78690477  2.88229952 -2.88184785  0.24312601]\n",
      " [ 0.12278103 -1.56458544  0.08102012  1.23527213  0.13789964]\n",
      " [ 1.66503895  1.4642298  -0.50238464  0.28784821 -1.55128709]\n",
      " [ 2.09557545 -0.20159023 -0.45938328 -0.07342836 -0.21395325]]\n",
      "det(m)\n",
      "-0.0687494630318019\n"
     ]
    }
   ],
   "source": [
    "def run():\n",
    "    matrix_1 = np.random.rand(5, 5)\n",
    "    print(\"a)\")\n",
    "    print(\"m: \")\n",
    "    print(matrix_1)\n",
    "    print(\"m.T\")\n",
    "    print(matrix_1.T)\n",
    "\n",
    "    print(\"\\nb)\")\n",
    "    print(\"m^-1: \")\n",
    "    print(np.linalg.inv(matrix_1))\n",
    "    print(\"det(m)\")\n",
    "    print(np.linalg.det(matrix_1))\n",
    "\n",
    "run()"
   ],
   "metadata": {
    "collapsed": false,
    "pycharm": {
     "name": "#%%\n"
    }
   }
  },
  {
   "cell_type": "code",
   "execution_count": 75,
   "outputs": [
    {
     "name": "stdout",
     "output_type": "stream",
     "text": [
      "Matrix:\n",
      " [[0.52750218 0.33841469 0.6273005  0.87349917 0.65402453]\n",
      " [0.78632264 0.11219156 0.82254783 0.46121034 0.07194735]\n",
      " [0.22967939 0.95728981 0.41125115 0.27743398 0.9585705 ]\n",
      " [0.68569729 0.5141386  0.36056613 0.22932298 0.93794761]\n",
      " [0.40399247 0.00651317 0.46431403 0.57270867 0.337442  ]]\n",
      "Vector:\n",
      " [0.50381888 0.28167952 0.7313573  0.57404168 0.85960552]\n",
      "Scalar product =  [1.88349887 1.3559429  1.66938844 1.69189812 1.16377876]\n",
      "Scalar product =  [1.88349887 1.3559429  1.66938844 1.69189812 1.16377876]\n"
     ]
    }
   ],
   "source": [
    "def run():\n",
    "    matrix = np.random.rand(5, 5)\n",
    "    vector = np.random.rand(5)\n",
    "    print(\"Matrix:\\n\", matrix)\n",
    "    print(\"Vector:\\n\", vector)\n",
    "    print(\"Scalar product = \", np.dot(matrix, vector))\n",
    "    print(\"Scalar product = \", matrix @ vector)\n",
    "\n",
    "run()"
   ],
   "metadata": {
    "collapsed": false,
    "pycharm": {
     "name": "#%%\n"
    }
   }
  }
 ],
 "metadata": {
  "kernelspec": {
   "name": "pycharm-35cec857",
   "language": "python",
   "display_name": "PyCharm (RN)"
  },
  "language_info": {
   "codemirror_mode": {
    "name": "ipython",
    "version": 2
   },
   "file_extension": ".py",
   "mimetype": "text/x-python",
   "name": "python",
   "nbconvert_exporter": "python",
   "pygments_lexer": "ipython2",
   "version": "2.7.6"
  }
 },
 "nbformat": 4,
 "nbformat_minor": 0
}