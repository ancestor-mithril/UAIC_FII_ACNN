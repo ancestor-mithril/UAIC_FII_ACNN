{
 "cells": [
  {
   "cell_type": "code",
   "execution_count": 1,
   "metadata": {
    "collapsed": true
   },
   "outputs": [],
   "source": [
    "from typing import Tuple, List\n",
    "\n",
    "import matplotlib.pyplot as plt\n",
    "import numpy as np\n",
    "from numpy import ndarray"
   ]
  },
  {
   "cell_type": "code",
   "execution_count": 2,
   "outputs": [
    {
     "data": {
      "text/plain": "array([[2.92003975, 5.35607389],\n       [3.63957871, 5.33955655],\n       [2.4073753 , 5.6943719 ]])"
     },
     "execution_count": 2,
     "metadata": {},
     "output_type": "execute_result"
    }
   ],
   "source": [
    "def get_points(n: int, interval_x: Tuple[float, float], interval_y: Tuple[float, float]) -> ndarray:\n",
    "    \"\"\"\n",
    "\n",
    "    :param n: number of points to be generated, must be positive\n",
    "    :param interval_x: interval of coordinate x, must be valid\n",
    "    :param interval_y: interval of coordinate y, must be valid\n",
    "    :return: ndarray(n, 2), list of points\n",
    "    \"\"\"\n",
    "    assert len(interval_x) == 2 and interval_x[1] > interval_x[0], \"not interval\"\n",
    "    assert len(interval_y) == 2 and interval_y[1] > interval_y[0], \"not interval\"\n",
    "    assert n > 0, \"number of points must be strict positive\"\n",
    "    x = np.random.rand(1, n)[0] * (interval_x[1] - interval_x[0]) + interval_x[0]\n",
    "    y = np.random.rand(1, n)[0] * (interval_y[1] - interval_y[0]) + interval_y[0]\n",
    "    return np.c_[x, y]\n",
    "\n",
    "\n",
    "get_points(3, (2, 4), (5, 6))"
   ],
   "metadata": {
    "collapsed": false,
    "pycharm": {
     "name": "#%%\n"
    }
   }
  },
  {
   "cell_type": "code",
   "execution_count": 3,
   "outputs": [
    {
     "name": "stdout",
     "output_type": "stream",
     "text": [
      "(50, 2) [25.967655   55.07584369]\n",
      "(50, 2) [99.55208381 87.60604946]\n"
     ]
    }
   ],
   "source": [
    "negative_points: ndarray = get_points(n=50, interval_x=(0, 45), interval_y=(0, 100))\n",
    "positive_points: ndarray = get_points(n=50, interval_x=(55, 100), interval_y=(0, 100))\n",
    "print(negative_points.shape, negative_points[0])\n",
    "print(positive_points.shape, positive_points[0])"
   ],
   "metadata": {
    "collapsed": false,
    "pycharm": {
     "name": "#%%\n"
    }
   }
  },
  {
   "cell_type": "code",
   "execution_count": 4,
   "outputs": [
    {
     "data": {
      "text/plain": "[array([[0.33824506, 2.13925989, 2.63410639]]),\n array([[1.96670809, 1.9036794 , 3.32155616]]),\n array([[1.48241639, 2.13440396, 3.13977867]]),\n array([[1.8824645 , 2.06527954, 3.80635999]]),\n array([[0.01973581, 2.85421218, 2.11135979]])]"
     },
     "execution_count": 4,
     "metadata": {},
     "output_type": "execute_result"
    }
   ],
   "source": [
    "def get_line_neighbors(line: ndarray, neighbors: int, max_step: float = 1) -> List[ndarray]:\n",
    "    \"\"\"\n",
    "    General method of adjusting line for hill-climbing by adding or subtracting x in (0, max_step) for\n",
    "    a, b and c.\n",
    "\n",
    "    :param line: must be [[a, b, c]]\n",
    "    :param neighbors: number of neighboring lines to be generated\n",
    "    :param max_step: the max difference between any parameter for each neighbor and original line\n",
    "    :return: List[ndarray(1, 3)], len(list) = neighbors, list of lines\n",
    "    \"\"\"\n",
    "    assert line.shape == (1, 3), f\"Not line: {line.shape} != (1,3)\"\n",
    "    assert max_step > 0, \"max_step must be positive\"\n",
    "    assert neighbors > 0, \"can't generate less than 1 neighbor\"\n",
    "    return [np.random.rand(1, 3) * max_step * 2 - max_step + line for _ in range(neighbors)]\n",
    "\n",
    "\n",
    "get_line_neighbors(np.array([[1, 2, 3]]), neighbors=5)"
   ],
   "metadata": {
    "collapsed": false,
    "pycharm": {
     "name": "#%%\n"
    }
   }
  },
  {
   "cell_type": "markdown",
   "source": [
    "#### Testing that `-x + 0.033y + 50 = 0` which roughly divides the `x = 50` line also divides the points"
   ],
   "metadata": {
    "collapsed": false
   }
  },
  {
   "cell_type": "code",
   "execution_count": 5,
   "outputs": [
    {
     "name": "stdout",
     "output_type": "stream",
     "text": [
      "[[-1.        ]\n",
      " [ 0.03333333]]\n",
      "50\n",
      "0\n"
     ]
    },
    {
     "data": {
      "text/plain": "<Figure size 432x288 with 1 Axes>",
      "image/png": "[encoded data removed]"
     },
     "metadata": {
      "needs_background": "light"
     },
     "output_type": "display_data"
    }
   ],
   "source": [
    "def draw1():\n",
    "    line = np.array([[-1, 1 / 30, 50]]).reshape(3, 1)\n",
    "    print(line[:2])\n",
    "    print(np.count_nonzero(np.dot(negative_points, line[:2]) + 50 > 0))\n",
    "    print(np.count_nonzero(np.dot(positive_points, line[:2]) + 50 > 0))\n",
    "    a, b, c = line.reshape(1, 3)[0]\n",
    "    x = np.linspace(-5, 100, 100)\n",
    "    y = (-a * x - c) / b\n",
    "    plt.axis([-5, 100, -5, 100])\n",
    "    plt.plot(x, y)\n",
    "    plt.scatter(positive_points[:, 0], positive_points[:, 1], marker=\"o\")\n",
    "    plt.scatter(negative_points[:, 0], negative_points[:, 1], marker=\"*\")\n",
    "    plt.show()\n",
    "\n",
    "draw1()\n"
   ],
   "metadata": {
    "collapsed": false,
    "pycharm": {
     "name": "#%%\n"
    }
   }
  },
  {
   "cell_type": "code",
   "execution_count": 6,
   "outputs": [
    {
     "name": "stdout",
     "output_type": "stream",
     "text": [
      "50\n",
      "0\n"
     ]
    }
   ],
   "source": [
    "def get_number_of_points_above_line(line: ndarray, points: ndarray) -> int:\n",
    "    \"\"\"\n",
    "\n",
    "    :param line: must be [[a, b, c]]\n",
    "    :param points: ndarray(n, 2), list of points\n",
    "    :return: number of points above (or bellow) the line\n",
    "    \"\"\"\n",
    "    assert line.shape == (1, 3), f\"Not line: {line.shape} != (1,3)\"\n",
    "    assert points.shape[1] == 2, f\"Not list of points: {points.shape}\"\n",
    "    return np.count_nonzero(np.dot(points, line.reshape(3, 1)[:2]) + line[0, -1:] > 0)\n",
    "\n",
    "\n",
    "dividing_line = np.array([[-1, 1 / 30, 50]])\n",
    "print(get_number_of_points_above_line(dividing_line, negative_points))\n",
    "print(get_number_of_points_above_line(dividing_line, positive_points))"
   ],
   "metadata": {
    "collapsed": false,
    "pycharm": {
     "name": "#%%\n"
    }
   }
  },
  {
   "cell_type": "code",
   "execution_count": 7,
   "outputs": [
    {
     "data": {
      "text/plain": "array([[6.96692039, 4.75812751, 1.58887461]])"
     },
     "execution_count": 7,
     "metadata": {},
     "output_type": "execute_result"
    }
   ],
   "source": [
    "def init_line() -> ndarray:\n",
    "    \"\"\"\n",
    "    Generating a and b in (-1, 1) gives the best answer.\n",
    "\n",
    "    :return: [[a, b, c]], a, b in (-10, 10), c in (0, 100)\n",
    "    \"\"\"\n",
    "    line = np.random.rand(1, 3) * 20 - 10\n",
    "    line[0, 2] = (line[0, 2] + 10) / 20 * 100\n",
    "    return line\n",
    "\n",
    "\n",
    "init_line()"
   ],
   "metadata": {
    "collapsed": false,
    "pycharm": {
     "name": "#%%\n"
    }
   }
  },
  {
   "cell_type": "code",
   "execution_count": 8,
   "outputs": [],
   "source": [
    "def get_score(line: ndarray) -> int:\n",
    "    \"\"\"\n",
    "\n",
    "    :param line: must be [[a, b, c]]\n",
    "    :return: how many points are correctly classified by line from all the 100 points\n",
    "    \"\"\"\n",
    "    assert line.shape == (1, 3), f\"Not line: {line.shape} != (1,3)\"\n",
    "    return get_number_of_points_above_line(line, negative_points) \\\n",
    "           + 50 - get_number_of_points_above_line(line, positive_points)"
   ],
   "metadata": {
    "collapsed": false,
    "pycharm": {
     "name": "#%%\n"
    }
   }
  },
  {
   "cell_type": "code",
   "execution_count": 9,
   "outputs": [
    {
     "data": {
      "text/plain": "(array([[-8.87912416, -8.096528  , 65.70247784]]), 50)"
     },
     "execution_count": 9,
     "metadata": {},
     "output_type": "execute_result"
    }
   ],
   "source": [
    "def hill_climbing() -> Tuple[ndarray, int]:\n",
    "    \"\"\"\n",
    "    Applies Steepest-Ascent hill-climbing.\n",
    "\n",
    "    :return: the best line and its score\n",
    "    \"\"\"\n",
    "    line = init_line()\n",
    "    best_score = 0\n",
    "    while True:\n",
    "        best_line = None\n",
    "        for candidate_line in get_line_neighbors(line, neighbors=10):\n",
    "            score = get_score(candidate_line)\n",
    "            if best_score < score:\n",
    "                best_line = candidate_line\n",
    "                best_score = score\n",
    "\n",
    "        if best_line is None:\n",
    "            break\n",
    "        else:\n",
    "            line = best_line\n",
    "\n",
    "    return line, best_score\n",
    "\n",
    "hill_climbing()"
   ],
   "metadata": {
    "collapsed": false,
    "pycharm": {
     "name": "#%%\n"
    }
   }
  },
  {
   "cell_type": "code",
   "execution_count": 10,
   "outputs": [
    {
     "name": "stdout",
     "output_type": "stream",
     "text": [
      "Iteration 0:\n",
      "\tScore: 44\n",
      "\tLine: 1.155146291064605x - 7.151502808476345y + 86.36790567467847 = 0\n",
      "\n",
      "Iteration 1:\n",
      "\tScore: 50\n",
      "\tLine: -9.197091427605304x - 8.904866328854423y + 86.22654398552545 = 0\n",
      "\n",
      "Iteration 2:\n",
      "\tScore: 50\n",
      "\tLine: 8.574415237739599x + 4.4928567078714305y + 38.32718070004693 = 0\n",
      "\n",
      "Iteration 3:\n",
      "\tScore: 77\n",
      "\tLine: -5.2564762242527x + 6.664413819724y + 6.916443230814121 = 0\n",
      "\n",
      "Iteration 4:\n",
      "\tScore: 88\n",
      "\tLine: -4.869382328429498x + 2.5193519603303827y + 30.986596826726835 = 0\n",
      "\n"
     ]
    },
    {
     "data": {
      "text/plain": "(array([[-4.86938233,  2.51935196, 30.98659683]]), 88)"
     },
     "execution_count": 10,
     "metadata": {},
     "output_type": "execute_result"
    }
   ],
   "source": [
    "def do_hill_climbing(iterations: int = 30, do_print: bool = True):\n",
    "    best_line = None\n",
    "    best_score = 0\n",
    "    for i in range(iterations):\n",
    "        line, score = hill_climbing()\n",
    "        if do_print:\n",
    "            print(f\"Iteration {i}:\\n\\tScore: {score}\\n\\t\"\n",
    "                  f\"Line: {line[0, 0]}x \"\n",
    "                  f\"{'+' if line[0, 1] > 0 else '-'} {abs(line[0, 1])}y \"\n",
    "                  f\"{'+' if line[0, 2] > 0 else '-'} {abs(line[0, 2])} = 0\\n\")\n",
    "        if score > best_score:\n",
    "            best_score = score\n",
    "            best_line = line\n",
    "\n",
    "    return best_line, best_score\n",
    "\n",
    "\n",
    "do_hill_climbing(5)"
   ],
   "metadata": {
    "collapsed": false,
    "pycharm": {
     "name": "#%%\n"
    }
   }
  },
  {
   "cell_type": "code",
   "execution_count": 11,
   "outputs": [
    {
     "name": "stdout",
     "output_type": "stream",
     "text": [
      "Best score: 100\n",
      "Best line: -2.4625420231307915x + 0.4150767443106438y + 96.57289302097483 = 0\n"
     ]
    },
    {
     "data": {
      "text/plain": "<Figure size 432x288 with 1 Axes>",
      "image/png": "[encoded data removed]"
     },
     "metadata": {
      "needs_background": "light"
     },
     "output_type": "display_data"
    }
   ],
   "source": [
    "def draw2():\n",
    "    # For better accuracy, generate a and be between (-1, 1)\n",
    "    best_line, best_score = do_hill_climbing(do_print=False)\n",
    "    print(f\"Best score: {best_score}\")\n",
    "    print(f\"Best line: \"\n",
    "          f\"{best_line[0, 0]}x \"\n",
    "          f\"{'+' if best_line[0, 1] > 0 else '-'} \"\n",
    "          f\"{abs(best_line[0, 1])}y \"\n",
    "          f\"{'+' if best_line[0, 2] > 0 else '-'} \"\n",
    "          f\"{abs(best_line[0, 2])} = 0\")\n",
    "    a, b, c = best_line[0]\n",
    "    x = np.linspace(-5, 100, 100)\n",
    "    y = (-a * x - c) / b\n",
    "    plt.axis([-5, 100, -5, 100])\n",
    "    plt.plot(x, y)\n",
    "    plt.scatter(positive_points[:, 0], positive_points[:, 1], marker=\"o\")\n",
    "    plt.scatter(negative_points[:, 0], negative_points[:, 1], marker=\"*\")\n",
    "    plt.show()\n",
    "\n",
    "draw2()"
   ],
   "metadata": {
    "collapsed": false,
    "pycharm": {
     "name": "#%%\n"
    }
   }
  }
 ],
 "metadata": {
  "kernelspec": {
   "name": "pycharm-35cec857",
   "language": "python",
   "display_name": "PyCharm (RN)"
  },
  "language_info": {
   "codemirror_mode": {
    "name": "ipython",
    "version": 2
   },
   "file_extension": ".py",
   "mimetype": "text/x-python",
   "name": "python",
   "nbconvert_exporter": "python",
   "pygments_lexer": "ipython2",
   "version": "2.7.6"
  }
 },
 "nbformat": 4,
 "nbformat_minor": 0
}