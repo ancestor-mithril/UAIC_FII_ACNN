{
 "cells": [
  {
   "cell_type": "code",
   "execution_count": 1,
   "metadata": {
    "collapsed": true
   },
   "outputs": [],
   "source": [
    "import gzip\n",
    "import pickle\n",
    "from datetime import datetime\n",
    "from typing import Tuple\n",
    "import re\n",
    "import numpy as np\n",
    "from numpy import ndarray"
   ]
  },
  {
   "cell_type": "code",
   "execution_count": 2,
   "outputs": [
    {
     "data": {
      "text/plain": "((array([[0., 0., 0., ..., 0., 0., 0.],\n         [0., 0., 0., ..., 0., 0., 0.],\n         [0., 0., 0., ..., 0., 0., 0.],\n         ...,\n         [0., 0., 0., ..., 0., 0., 0.],\n         [0., 0., 0., ..., 0., 0., 0.],\n         [0., 0., 0., ..., 0., 0., 0.]], dtype=float32),\n  array([5, 0, 4, ..., 8, 4, 8], dtype=int64)),\n (array([[0., 0., 0., ..., 0., 0., 0.],\n         [0., 0., 0., ..., 0., 0., 0.],\n         [0., 0., 0., ..., 0., 0., 0.],\n         ...,\n         [0., 0., 0., ..., 0., 0., 0.],\n         [0., 0., 0., ..., 0., 0., 0.],\n         [0., 0., 0., ..., 0., 0., 0.]], dtype=float32),\n  array([3, 8, 6, ..., 5, 6, 8], dtype=int64)),\n (array([[0., 0., 0., ..., 0., 0., 0.],\n         [0., 0., 0., ..., 0., 0., 0.],\n         [0., 0., 0., ..., 0., 0., 0.],\n         ...,\n         [0., 0., 0., ..., 0., 0., 0.],\n         [0., 0., 0., ..., 0., 0., 0.],\n         [0., 0., 0., ..., 0., 0., 0.]], dtype=float32),\n  array([7, 2, 1, ..., 4, 5, 6], dtype=int64)))"
     },
     "execution_count": 2,
     "metadata": {},
     "output_type": "execute_result"
    }
   ],
   "source": [
    "def load_data() -> Tuple[Tuple[ndarray, ndarray], Tuple[ndarray, ndarray], Tuple[ndarray, ndarray]]:\n",
    "    with gzip.open(\"mnist.pkl.gz\", \"rb\") as fd:\n",
    "        train_set, valid_set, test_set = pickle.load(fd, encoding=\"latin\")\n",
    "    return train_set, valid_set, test_set\n",
    "\n",
    "load_data()"
   ],
   "metadata": {
    "collapsed": false,
    "pycharm": {
     "name": "#%%\n"
    }
   }
  },
  {
   "cell_type": "code",
   "execution_count": 3,
   "outputs": [
    {
     "data": {
      "text/plain": "array([[0., 0., 0., ..., 0., 0., 0.],\n       [0., 0., 0., ..., 0., 0., 0.],\n       [0., 0., 0., ..., 0., 0., 0.],\n       ...,\n       [0., 0., 0., ..., 0., 0., 0.],\n       [0., 0., 0., ..., 0., 0., 0.],\n       [0., 0., 0., ..., 0., 0., 0.]], dtype=float32)"
     },
     "execution_count": 3,
     "metadata": {},
     "output_type": "execute_result"
    }
   ],
   "source": [
    "def get_training_data() -> ndarray:\n",
    "    return load_data()[0][0]\n",
    "\n",
    "\n",
    "get_training_data()"
   ],
   "metadata": {
    "collapsed": false,
    "pycharm": {
     "name": "#%%\n"
    }
   }
  },
  {
   "cell_type": "code",
   "execution_count": 4,
   "outputs": [
    {
     "data": {
      "text/plain": "array([[-1, -1, -1, ..., -1, -1, -1],\n       [ 1, -1, -1, ..., -1, -1, -1],\n       [-1, -1, -1, ..., -1, -1, -1],\n       ...,\n       [-1, -1, -1, ..., -1,  1, -1],\n       [-1, -1, -1, ..., -1, -1, -1],\n       [-1, -1, -1, ..., -1,  1, -1]])"
     },
     "execution_count": 4,
     "metadata": {},
     "output_type": "execute_result"
    }
   ],
   "source": [
    "def get_one_hot_training_labels() -> ndarray:\n",
    "    one_hot_labels = np.full((50000, 10), -1)\n",
    "    labels = load_data()[0][1]\n",
    "    for i in range(labels.shape[0]):\n",
    "        one_hot_labels[i, labels[i]] = 1\n",
    "    return one_hot_labels\n",
    "\n",
    "\n",
    "get_one_hot_training_labels()"
   ],
   "metadata": {
    "collapsed": false,
    "pycharm": {
     "name": "#%%\n"
    }
   }
  },
  {
   "cell_type": "code",
   "execution_count": 5,
   "outputs": [],
   "source": [
    "def blur_image(image: ndarray) -> ndarray:\n",
    "    \"\"\"\n",
    "\n",
    "    :param image: ndarray(28, 28)\n",
    "    :return: box-blurred image\n",
    "    \"\"\"\n",
    "    copy = np.array(image, copy=True)\n",
    "    dx = [-1, -1, -1, 0, 1, 1, 1, 0]\n",
    "    dy = [-1, 0, 1, 1, 1, 0, -1, -1]\n",
    "    for i in range(copy.shape[0]):\n",
    "        for j in range(copy.shape[1]):\n",
    "            s = copy[i, j] * 8\n",
    "            for ii, jj in zip(dx, dy):\n",
    "                x = i + ii\n",
    "                y = j + jj\n",
    "                if 0 <= x < copy.shape[0] and 0 <= y < copy.shape[1]:\n",
    "                    s += copy[x, y]\n",
    "            s /= 16\n",
    "            copy[i, j] = s\n",
    "    return copy"
   ],
   "metadata": {
    "collapsed": false,
    "pycharm": {
     "name": "#%%\n"
    }
   }
  },
  {
   "cell_type": "code",
   "execution_count": 6,
   "outputs": [],
   "source": [
    "def augment_data(data: ndarray, labels: ndarray) -> Tuple[ndarray, ndarray]:\n",
    "    blurred_set = np.array([blur_image(image.reshape([28, 28])).reshape((784, )) for image in data])\n",
    "    return np.concatenate((data, blurred_set), axis=0), np.concatenate((labels, labels), axis=0)\n",
    "\n",
    "# augment_data(get_training_data(), get_one_hot_training_labels())"
   ],
   "metadata": {
    "collapsed": false,
    "pycharm": {
     "name": "#%%\n"
    }
   }
  },
  {
   "cell_type": "code",
   "execution_count": 7,
   "outputs": [
    {
     "data": {
      "text/plain": "(array([[0., 0., 0., ..., 0., 0., 0.],\n        [0., 0., 0., ..., 0., 0., 0.],\n        [0., 0., 0., ..., 0., 0., 0.],\n        ...,\n        [0., 0., 0., ..., 0., 0., 0.],\n        [0., 0., 0., ..., 0., 0., 0.],\n        [0., 0., 0., ..., 0., 0., 0.]], dtype=float32),\n array([[-1, -1, -1, ..., -1, -1, -1],\n        [ 1, -1, -1, ..., -1, -1, -1],\n        [-1, -1, -1, ..., -1, -1, -1],\n        ...,\n        [-1, -1, -1, ..., -1,  1, -1],\n        [-1, -1, -1, ..., -1, -1, -1],\n        [-1, -1, -1, ..., -1,  1, -1]]))"
     },
     "execution_count": 7,
     "metadata": {},
     "output_type": "execute_result"
    }
   ],
   "source": [
    "memo = None\n",
    "\n",
    "def get_data_and_labels(augment: bool = False) -> Tuple[ndarray, ndarray]:\n",
    "    global memo\n",
    "    if memo is None:\n",
    "        if augment:\n",
    "            memo = augment_data(get_training_data(), get_one_hot_training_labels())\n",
    "        memo = get_training_data(), get_one_hot_training_labels()\n",
    "    return memo\n",
    "\n",
    "get_data_and_labels()"
   ],
   "metadata": {
    "collapsed": false,
    "pycharm": {
     "name": "#%%\n"
    }
   }
  },
  {
   "cell_type": "code",
   "execution_count": 8,
   "outputs": [
    {
     "data": {
      "text/plain": "(10, 785)"
     },
     "execution_count": 8,
     "metadata": {},
     "output_type": "execute_result"
    }
   ],
   "source": [
    "def get_weights(random: bool = False) -> ndarray:\n",
    "    \"\"\"\n",
    "\n",
    "    :param random: if False, weights are zero, otherwise weights are random\n",
    "    :return: ndarray(10, 785) where 10 is the number of perceptrons, 784 is\n",
    "    the input size and 1 is the bias\n",
    "    \"\"\"\n",
    "    if random:\n",
    "        return np.random.rand(10, 785) - 0.5\n",
    "    return np.zeros((10, 785), dtype=\"float64\")\n",
    "\n",
    "\n",
    "get_weights(True).shape"
   ],
   "metadata": {
    "collapsed": false,
    "pycharm": {
     "name": "#%%\n"
    }
   }
  },
  {
   "cell_type": "code",
   "execution_count": 9,
   "outputs": [
    {
     "data": {
      "text/plain": "(array([[0., 0., 0., ..., 0., 0., 0.],\n        [0., 0., 0., ..., 0., 0., 0.],\n        [0., 0., 0., ..., 0., 0., 0.],\n        ...,\n        [0., 0., 0., ..., 0., 0., 0.],\n        [0., 0., 0., ..., 0., 0., 0.],\n        [0., 0., 0., ..., 0., 0., 0.]], dtype=float32),\n array([[-1, -1, -1, ..., -1, -1, -1],\n        [-1, -1, -1, ..., -1,  1, -1],\n        [-1, -1, -1, ..., -1, -1, -1],\n        ...,\n        [-1, -1, -1, ..., -1, -1, -1],\n        [-1, -1, -1, ..., -1, -1, -1],\n        [-1, -1, -1, ..., -1, -1,  1]]))"
     },
     "execution_count": 9,
     "metadata": {},
     "output_type": "execute_result"
    }
   ],
   "source": [
    "def shuffle_data_and_labels(data: ndarray, labels: ndarray) -> Tuple[ndarray, ndarray]:\n",
    "    \"\"\"\n",
    "\n",
    "    :return: data and labels shuffled in unison using numpy advanced indexing\n",
    "    \"\"\"\n",
    "    assert len(data) == len(labels), \"Data is not consistent with labels\"\n",
    "    p = np.random.permutation(len(data))\n",
    "    return data[p], labels[p]\n",
    "\n",
    "shuffle_data_and_labels(*get_data_and_labels())"
   ],
   "metadata": {
    "collapsed": false,
    "pycharm": {
     "name": "#%%\n"
    }
   }
  },
  {
   "cell_type": "code",
   "execution_count": 10,
   "outputs": [
    {
     "data": {
      "text/plain": "(array([[0., 0., 0., ..., 0., 0., 0.],\n        [0., 0., 0., ..., 0., 0., 0.],\n        [0., 0., 0., ..., 0., 0., 0.],\n        ...,\n        [0., 0., 0., ..., 0., 0., 0.],\n        [0., 0., 0., ..., 0., 0., 0.],\n        [0., 0., 0., ..., 0., 0., 0.]], dtype=float32),\n array([3, 8, 6, ..., 5, 6, 8], dtype=int64))"
     },
     "execution_count": 10,
     "metadata": {},
     "output_type": "execute_result"
    }
   ],
   "source": [
    "def get_validation_data_and_labels() -> Tuple[ndarray, ndarray]:\n",
    "    return load_data()[1]\n",
    "\n",
    "get_validation_data_and_labels()"
   ],
   "metadata": {
    "collapsed": false,
    "pycharm": {
     "name": "#%%\n"
    }
   }
  },
  {
   "cell_type": "code",
   "execution_count": 11,
   "outputs": [],
   "source": [
    "def test_prediction_on_set(weights:ndarray, get_set: callable) -> float:\n",
    "    predictions, prediction_ok = 0, 0\n",
    "    for image, label in zip(*get_set()):\n",
    "        predictions += 1\n",
    "        image = np.insert(image, 0, 1)\n",
    "        if np.argmax(np.dot(weights, image)) == label:\n",
    "            prediction_ok += 1\n",
    "    return prediction_ok / predictions * 100"
   ],
   "metadata": {
    "collapsed": false,
    "pycharm": {
     "name": "#%%\n"
    }
   }
  },
  {
   "cell_type": "code",
   "execution_count": 12,
   "outputs": [],
   "source": [
    "def validate(weights: ndarray) -> float:\n",
    "    return test_prediction_on_set(weights, get_validation_data_and_labels)"
   ],
   "metadata": {
    "collapsed": false,
    "pycharm": {
     "name": "#%%\n"
    }
   }
  },
  {
   "cell_type": "code",
   "execution_count": 13,
   "outputs": [
    {
     "data": {
      "text/plain": "(array([[0., 0., 0., ..., 0., 0., 0.],\n        [0., 0., 0., ..., 0., 0., 0.],\n        [0., 0., 0., ..., 0., 0., 0.],\n        ...,\n        [0., 0., 0., ..., 0., 0., 0.],\n        [0., 0., 0., ..., 0., 0., 0.],\n        [0., 0., 0., ..., 0., 0., 0.]], dtype=float32),\n array([7, 2, 1, ..., 4, 5, 6], dtype=int64))"
     },
     "execution_count": 13,
     "metadata": {},
     "output_type": "execute_result"
    }
   ],
   "source": [
    "def get_test_data_and_labels() -> Tuple[ndarray, ndarray]:\n",
    "    return load_data()[2]\n",
    "\n",
    "get_test_data_and_labels()"
   ],
   "metadata": {
    "collapsed": false,
    "pycharm": {
     "name": "#%%\n"
    }
   }
  },
  {
   "cell_type": "code",
   "execution_count": 14,
   "outputs": [],
   "source": [
    "def test(weights: ndarray) -> float:\n",
    "    return test_prediction_on_set(weights, get_test_data_and_labels)"
   ],
   "metadata": {
    "collapsed": false,
    "pycharm": {
     "name": "#%%\n"
    }
   }
  },
  {
   "cell_type": "code",
   "execution_count": 15,
   "outputs": [
    {
     "name": "stdout",
     "output_type": "stream",
     "text": [
      "Iteration 0: 7.02% on validation\n",
      "Iteration 1: 86.11% on validation\n",
      "Iteration 2: 87.68% on validation\n",
      "Iteration 3: 87.96% on validation\n",
      "Iteration 4: 88.83% on validation\n",
      "Iteration 5: 89.05% on validation\n",
      "Iteration 6: 88.11% on validation\n",
      "Iteration 7: 88.5% on validation\n",
      "Iteration 8: 88.29% on validation\n",
      "Iteration 9: 88.96% on validation\n",
      "Iteration 10: 89.24% on validation\n",
      "Iteration 11: 89.56% on validation\n",
      "Iteration 12: 89.22% on validation\n",
      "Iteration 13: 88.85% on validation\n",
      "Iteration 14: 89.28% on validation\n"
     ]
    }
   ],
   "source": [
    "memo = None\n",
    "def train(iterations: int = 30, random_weights: bool = False, niu: float = 0.01, augment: bool = False,\n",
    "          mini_batch_size: int = 10) -> ndarray:\n",
    "    weights = get_weights(random_weights)\n",
    "    for i in range(iterations):\n",
    "        print(f\"Iteration {i}: {round(validate(weights), 2)}% on validation\")\n",
    "        data, labels = shuffle_data_and_labels(*get_data_and_labels(augment))\n",
    "        mini_batches = [\n",
    "            (data[x:x + mini_batch_size], labels[x: x + mini_batch_size])\n",
    "            for x in range(0, labels.shape[0], mini_batch_size)\n",
    "        ]\n",
    "        for images, labels in mini_batches:\n",
    "            bias = np.ones((mini_batch_size, 1))\n",
    "            images = np.c_[bias, images]\n",
    "            # weights.T because weights should have been (785, 10), not (10, 785)\n",
    "            z = np.where(np.dot(images, weights.T) >= 0, 1, -1)\n",
    "            # last param must be same value as the default in one-hot-vectors. Using -1 gives better results\n",
    "            diff = labels - z\n",
    "            weights += np.dot(diff.T, images) * niu\n",
    "        # Without mini batch\n",
    "        # for image, label in zip(*shuffle_data_and_labels(*get_data_and_labels(augment))):\n",
    "        #     image = np.insert(image, 0, 1)  # inserting bias on the first position\n",
    "        #     z = np.where(np.dot(weights, image) >= 0, 1, -1)\n",
    "\n",
    "        #     diff = np.expand_dims(label - z, axis=0)\n",
    "        #     weights += (image * diff.T) * niu\n",
    "    np.save(f\"weights-{iterations}-{random_weights}-{niu}-{re.sub(r'[ :]', '_', str(datetime.now()))}\", weights)\n",
    "    return weights\n",
    "\n",
    "trained_weights:ndarray = train(iterations=15, random_weights=True, niu=0.001, augment=False)"
   ],
   "metadata": {
    "collapsed": false,
    "pycharm": {
     "name": "#%%\n"
    }
   }
  },
  {
   "cell_type": "code",
   "execution_count": 16,
   "outputs": [
    {
     "name": "stdout",
     "output_type": "stream",
     "text": [
      "Accuracy on test set: 88.87%\n"
     ]
    }
   ],
   "source": [
    "print(f\"Accuracy on test set: {test(trained_weights)}%\")"
   ],
   "metadata": {
    "collapsed": false,
    "pycharm": {
     "name": "#%%\n"
    }
   }
  }
 ],
 "metadata": {
  "kernelspec": {
   "name": "pycharm-35cec857",
   "language": "python",
   "display_name": "PyCharm (RN)"
  },
  "language_info": {
   "codemirror_mode": {
    "name": "ipython",
    "version": 2
   },
   "file_extension": ".py",
   "mimetype": "text/x-python",
   "name": "python",
   "nbconvert_exporter": "python",
   "pygments_lexer": "ipython2",
   "version": "2.7.6"
  }
 },
 "nbformat": 4,
 "nbformat_minor": 0
}